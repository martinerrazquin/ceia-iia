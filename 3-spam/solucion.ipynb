{
 "cells": [
  {
   "cell_type": "markdown",
   "id": "17834846-3b4f-4be0-aa22-d7cccb3d8dba",
   "metadata": {},
   "source": [
    "# TP3: Detector de SPAM"
   ]
  },
  {
   "cell_type": "code",
   "execution_count": null,
   "id": "c2fe60d3-4564-4332-a5c4-34f193880261",
   "metadata": {},
   "outputs": [],
   "source": []
  }
 ],
 "metadata": {
  "kernelspec": {
   "display_name": "Python 3 (ipykernel)",
   "language": "python",
   "name": "python3"
  },
  "language_info": {
   "codemirror_mode": {
    "name": "ipython",
    "version": 3
   },
   "file_extension": ".py",
   "mimetype": "text/x-python",
   "name": "python",
   "nbconvert_exporter": "python",
   "pygments_lexer": "ipython3",
   "version": "3.10.14"
  }
 },
 "nbformat": 4,
 "nbformat_minor": 5
}
