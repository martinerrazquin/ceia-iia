{
 "cells": [
  {
   "cell_type": "markdown",
   "id": "9c4b62a6-59ee-4b0b-9dd0-225770bc8c7d",
   "metadata": {},
   "source": [
    "# Resolución utilizando $A^*$"
   ]
  },
  {
   "cell_type": "markdown",
   "id": "cf5c35a2-3ab1-4719-8077-f2c850026dfe",
   "metadata": {},
   "source": [
    "## Imports"
   ]
  },
  {
   "cell_type": "code",
   "execution_count": 23,
   "id": "19a7b69c-f3bf-49c9-9746-207acf53a6a3",
   "metadata": {},
   "outputs": [],
   "source": [
    "from aima_libs.hanoi_states import StatesHanoi, ProblemHanoi\n",
    "from aima_libs.tree_hanoi import NodeHanoi\n",
    "from aima_libs.aima import PriorityQueue\n",
    "import tracemalloc\n",
    "import numpy"
   ]
  },
  {
   "cell_type": "markdown",
   "id": "caf21825-9bb1-4f40-b204-9efce431227f",
   "metadata": {},
   "source": [
    "## Estructura general"
   ]
  },
  {
   "cell_type": "code",
   "execution_count": 5,
   "id": "0cb0f9f6-7979-4da9-ae25-f869aabf5fe0",
   "metadata": {},
   "outputs": [],
   "source": [
    "def generate_new_problem(n_disks: int = 5) -> ProblemHanoi:\n",
    "    \"\"\"\n",
    "    Inicializa un problema de Hanoi para `n_disks` discos y 3 pegs.\n",
    "    El estado inicial es con el peg izquierdo completo.\n",
    "    El estado final (goal) es con el peg derecho completo.\n",
    "    \"\"\"\n",
    "    full_peg = list(range(n_disks,0,-1))\n",
    "    initial_state = StatesHanoi(full_peg, [], [], max_disks=n_disks)\n",
    "    goal_state = StatesHanoi([], [], full_peg, max_disks=n_disks)\n",
    "\n",
    "    return ProblemHanoi(initial=initial_state, goal=goal_state)"
   ]
  },
  {
   "cell_type": "code",
   "execution_count": 8,
   "id": "fdfe6954-2d31-4c3e-9e11-a9de389e3ec9",
   "metadata": {},
   "outputs": [],
   "source": [
    "def a_star_search(n_disks, heur, max_iters = 10000):\n",
    "    \"\"\"\n",
    "    Resuelve un problema de Hanoi para `n_disks` discos y 3 pegs.\n",
    "    Utiliza para ello una búsqueda A* con heurística `heur` de tipo `StatesHanoi` -> `float`.\n",
    "    También realiza como máximo `max_iters` iteraciones, tras las cuales retorna no solución.\n",
    "    En ambos casos se retornan métricas asociadas.\n",
    "    \"\"\"\n",
    "    problem = generate_new_problem(n_disks)\n",
    "\n",
    "    pq = PriorityQueue('min', lambda ns: ns.path_cost + heur(ns.state))\n",
    "\n",
    "    pq.append(NodeHanoi(problem.initial))\n",
    "\n",
    "    seen = set()\n",
    "    n_iters = 0\n",
    "\n",
    "    while len(pq)>0:\n",
    "        if n_iters > max_iters:\n",
    "            metrics = {'solved': False, 'cost': None}\n",
    "            break\n",
    "\n",
    "        _, ns = pq.pop()\n",
    "        n_iters += 1\n",
    "        seen.add(ns.state)\n",
    "\n",
    "        if problem.goal_test(ns.state):\n",
    "            metrics = {'solved': True, 'cost': ns.state.accumulated_cost}\n",
    "            break\n",
    "\n",
    "        for next_ns in ns.expand(problem):\n",
    "            if next_ns.state not in seen:\n",
    "                pq.append(next_ns)\n",
    "\n",
    "    metrics[\"nodes_explored\"] = n_iters\n",
    "    metrics[\"states_visited\"] = len(seen)\n",
    "    metrics[\"nodes_in_frontier\"] = len(pq)\n",
    "    metrics[\"optimal_cost\"] = 2**n_disks - 1\n",
    "\n",
    "    return (ns if metrics['solved'] else None), metrics"
   ]
  },
  {
   "cell_type": "markdown",
   "id": "d5693bc2-d03b-4b44-bdf8-6311a396d5f9",
   "metadata": {},
   "source": [
    "## Heurística Simple\n",
    "\n",
    "Se utiliza la cantidad de discos en la varilla (peg) izquierda. Como cada disco en la misma requiere al menos 1 movimiento para ser movido a la varilla derecha, esta heúristica es consistente/admisible y por lo tanto el camino generado será óptimo. "
   ]
  },
  {
   "cell_type": "code",
   "execution_count": 9,
   "id": "c4680898-fe84-4305-ab18-b279f92b9dfc",
   "metadata": {},
   "outputs": [],
   "source": [
    "def heur_left_peg_disks(s: StatesHanoi) -> float:\n",
    "    return len(s.get_state()[0])"
   ]
  },
  {
   "cell_type": "code",
   "execution_count": 11,
   "id": "915b219a-01a6-4273-87fa-9da603a2cdab",
   "metadata": {},
   "outputs": [],
   "source": [
    "# realizamos una corrida\n",
    "node, metrics = a_star_search(5, heur_left_peg_disks)"
   ]
  },
  {
   "cell_type": "code",
   "execution_count": 12,
   "id": "d247b590-069b-4e93-b8b1-24d4c548f5a7",
   "metadata": {},
   "outputs": [
    {
     "data": {
      "text/plain": [
       "{'solved': True,\n",
       " 'cost': 31.0,\n",
       " 'nodes_explored': 302,\n",
       " 'states_visited': 206,\n",
       " 'nodes_in_frontier': 33,\n",
       " 'optimal_cost': 31}"
      ]
     },
     "execution_count": 12,
     "metadata": {},
     "output_type": "execute_result"
    }
   ],
   "source": [
    "# mostramos metricas\n",
    "metrics"
   ]
  },
  {
   "cell_type": "code",
   "execution_count": 14,
   "id": "5d4dbd58-1939-49fc-9fde-e5f7883dcc5e",
   "metadata": {},
   "outputs": [
    {
     "name": "stdout",
     "output_type": "stream",
     "text": [
      "56.9 ms ± 6.24 ms per loop (mean ± std. dev. of 7 runs, 10 loops each)\n"
     ]
    }
   ],
   "source": [
    "%%timeit\n",
    "# mini bench de tiempos\n",
    "node, metrics = a_star_search(5, heur_left_peg_disks)"
   ]
  },
  {
   "cell_type": "markdown",
   "id": "e4e76714-3c4d-40c5-b0f1-12691809267a",
   "metadata": {},
   "source": [
    "## Heurística Mejorada\n",
    "\n",
    "Se utiliza la cantidad de discos en las varillas izquierda y medias, bajo la misma lógica antes expresada, pero además se agrega 2 veces la cantidad de discos en la varilla derecha para los cuales hay algún disco más grande en otra varilla.\n",
    "\n",
    "La lógica del segundo componente es que para agregar dicho disco más grande faltante se requiere mover el disco más chico dos veces, uno para liberar espacio y otro para restaurarlo en la varilla derecha."
   ]
  },
  {
   "cell_type": "code",
   "execution_count": 15,
   "id": "237642a0-b063-48bf-a5f2-b1921187abe3",
   "metadata": {},
   "outputs": [],
   "source": [
    "def heur_non_right_plus_gap(s: StatesHanoi) -> float:\n",
    "    right_peg = s.get_state()[2]\n",
    "    last = s.number_of_disks + 1 # fake base disk\n",
    "    gap = False  # if missing a disk below\n",
    "    total = 0\n",
    "    for disk in right_peg:\n",
    "        if last > disk + 1:\n",
    "            gap = True\n",
    "        if gap:\n",
    "            total += 2\n",
    "        last = disk\n",
    "    return total + (s.number_of_disks - len(right_peg))"
   ]
  },
  {
   "cell_type": "code",
   "execution_count": 16,
   "id": "460394e9-dfb2-4f26-81c4-99f581c65638",
   "metadata": {},
   "outputs": [],
   "source": [
    "# realizamos una corrida\n",
    "node, metrics = a_star_search(5, heur_non_right_plus_gap)"
   ]
  },
  {
   "cell_type": "code",
   "execution_count": 17,
   "id": "301f25f3-f882-4821-8a70-bcb38be6b19a",
   "metadata": {},
   "outputs": [
    {
     "data": {
      "text/plain": [
       "{'solved': True,\n",
       " 'cost': 31.0,\n",
       " 'nodes_explored': 240,\n",
       " 'states_visited': 158,\n",
       " 'nodes_in_frontier': 21,\n",
       " 'optimal_cost': 31}"
      ]
     },
     "execution_count": 17,
     "metadata": {},
     "output_type": "execute_result"
    }
   ],
   "source": [
    "# mostramos metricas\n",
    "metrics"
   ]
  },
  {
   "cell_type": "code",
   "execution_count": 18,
   "id": "36166d30-9d55-4a41-bc77-009b1c007a10",
   "metadata": {},
   "outputs": [
    {
     "name": "stdout",
     "output_type": "stream",
     "text": [
      "43.3 ms ± 2.79 ms per loop (mean ± std. dev. of 7 runs, 10 loops each)\n"
     ]
    }
   ],
   "source": [
    "%%timeit\n",
    "# mini bench de tiempos\n",
    "node, metrics = a_star_search(5, heur_non_right_plus_gap)"
   ]
  },
  {
   "cell_type": "code",
   "execution_count": 26,
   "id": "62e4601f-254c-4848-81eb-f2138e6668c2",
   "metadata": {},
   "outputs": [
    {
     "name": "stdout",
     "output_type": "stream",
     "text": [
      "Consumo pico de memoria en MB: 0.22+-0.01\n"
     ]
    }
   ],
   "source": [
    "# mini bench de memoria\n",
    "measurements = []\n",
    "\n",
    "tracemalloc.start()\n",
    "for i in range(20):\n",
    "    node, metrics = a_star_search(5, heur_non_right_plus_gap)\n",
    "    _, mem_peak = tracemalloc.get_traced_memory()\n",
    "    tracemalloc.reset_peak()\n",
    "    measurements.append(mem_peak / 1024**2)\n",
    "tracemalloc.stop()\n",
    "\n",
    "# promedio de MB\n",
    "mu = np.mean(measurements)\n",
    "s = np.std(measurements)\n",
    "\n",
    "print(f\"Consumo pico de memoria en MB: {mu:.2f}+-{s:.2f}\")"
   ]
  },
  {
   "cell_type": "markdown",
   "id": "7128979d-426e-4431-9e14-9c34e852aa7b",
   "metadata": {},
   "source": [
    "## Generación de animación"
   ]
  },
  {
   "cell_type": "code",
   "execution_count": 19,
   "id": "a61da982-7284-4666-9065-66506948e00c",
   "metadata": {},
   "outputs": [],
   "source": [
    "node.generate_solution_for_simulator(\n",
    "    initial_state_file=\"./simulator/initial_state.json\",\n",
    "    sequence_file=\"./simulator/sequence.json\"\n",
    ")"
   ]
  },
  {
   "cell_type": "code",
   "execution_count": 21,
   "id": "bcdcf216-d1f7-48ba-9e33-431d3c48d4d2",
   "metadata": {},
   "outputs": [
    {
     "name": "stdout",
     "output_type": "stream",
     "text": [
      "pygame 2.6.1 (SDL 2.28.4, Python 3.12.3)\n",
      "Hello from the pygame community. https://www.pygame.org/contribute.html\n"
     ]
    }
   ],
   "source": [
    "%%bash\n",
    "\n",
    "cd ./simulator\n",
    "uv run ./simulation_hanoi.py"
   ]
  },
  {
   "cell_type": "code",
   "execution_count": null,
   "id": "1e60cc7b-68e1-4a70-88df-fbfeea5ba620",
   "metadata": {},
   "outputs": [],
   "source": []
  }
 ],
 "metadata": {
  "kernelspec": {
   "display_name": "Python 3 (ipykernel)",
   "language": "python",
   "name": "python3"
  },
  "language_info": {
   "codemirror_mode": {
    "name": "ipython",
    "version": 3
   },
   "file_extension": ".py",
   "mimetype": "text/x-python",
   "name": "python",
   "nbconvert_exporter": "python",
   "pygments_lexer": "ipython3",
   "version": "3.12.3"
  }
 },
 "nbformat": 4,
 "nbformat_minor": 5
}
